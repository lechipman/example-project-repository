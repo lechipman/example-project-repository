{
 "cells": [
  {
   "cell_type": "code",
   "execution_count": 1,
   "id": "d49da860",
   "metadata": {},
   "outputs": [
    {
     "name": "stdout",
     "output_type": "stream",
     "text": [
      "/Users/lchipman/earth-analytics/data/watershed-project is now the working directory\n"
     ]
    }
   ],
   "source": [
    "# Import packages\n",
    "import os\n",
    "import pathlib\n",
    "import zipfile\n",
    "\n",
    "# import relative path replace / with . subdirectory.load_plot_mode\n",
    "import geopandas as gpd\n",
    "import load_model\n",
    "import matplotlib.pyplot as plt\n",
    "from riverrem.REMMaker import REMMaker, clear_osm_cache\n",
    "import requests\n",
    "import rioxarray as rxr\n",
    "from rioxarray.merge import merge_arrays"
   ]
  },
  {
   "cell_type": "code",
   "execution_count": 2,
   "id": "cb5f9f39",
   "metadata": {},
   "outputs": [
    {
     "name": "stdout",
     "output_type": "stream",
     "text": [
      "/Users/lchipman/earth-analytics/data/watershed-project is now the working directory\n"
     ]
    }
   ],
   "source": [
    "# Set working directory\n",
    "working_dir = os.path.join(\n",
    "    pathlib.Path.home(), 'earth-analytics', 'data', 'watershed-project')\n",
    "\n",
    "# Try/Except Block   \n",
    "try:\n",
    "    os.chdir(working_dir)\n",
    "except:\n",
    "    print('{} does not exist. Creating...'.format(working_dir))\n",
    "    os.makedirs(working_dir)\n",
    "    os.chdir(working_dir)\n",
    "else:\n",
    "    print('{} is now the working directory'.format(working_dir))"
   ]
  },
  {
   "cell_type": "markdown",
   "id": "a3e4ac44",
   "metadata": {},
   "source": [
    "# Load the site information into dictionaries"
   ]
  },
  {
   "cell_type": "markdown",
   "id": "49b7e0a3",
   "metadata": {},
   "source": [
    "## Load the LiDAR DTMs\n",
    "* Download and unzip lidar data\n",
    "\n",
    "ideally would download from CO hs site, but there is no direct link. I uploaded zip files to git, and had to change the file content names bc otherwise  running into issues unzipping - the extracted files include root directory in filename, and the name is not callable"
   ]
  },
  {
   "cell_type": "code",
   "execution_count": 3,
   "id": "f8bc8276",
   "metadata": {},
   "outputs": [],
   "source": [
    "# Call function to get urls for lidar zipfiles, add to dictionary\n",
    "site_names = ['applevalley', 'hallmeadows', 'hallmeadows2', 'highway93']\n",
    "site_lidar_urls = load_model.get_lidar_url(site_names=site_names)"
   ]
  },
  {
   "cell_type": "code",
   "execution_count": 4,
   "id": "d06fa8ec",
   "metadata": {},
   "outputs": [],
   "source": [
    "# Download and unzip lidar data, load and save lidar DTMs to dictionaries\n",
    "for site in site_lidar_urls:\n",
    "    site['lidar_dtm'] = (load_model.load_dtm(data_url=site['lidar_url'], \n",
    "                                     site_name=site['site_name'],\n",
    "                                     file_name=site['zip_filename']))\n",
    "# Merge the 2 hallmeadows tiles and replace dtm:\n",
    "for site in site_lidar_urls:\n",
    "    if site['site_name'] == 'hallmeadows':\n",
    "        site['lidar_dtm'] = (merge_arrays(dataarrays = [site_lidar_urls[1]['lidar_dtm'], \n",
    "                                                        site_lidar_urls[2]['lidar_dtm']]))\n",
    "    if site['site_name'] == 'hallmeadows2':\n",
    "        site_lidar_urls.remove(site)"
   ]
  },
  {
   "cell_type": "markdown",
   "id": "83980fa6",
   "metadata": {},
   "source": [
    "## Download the area of interest (AOI)"
   ]
  },
  {
   "cell_type": "code",
   "execution_count": 6,
   "id": "e57310bb",
   "metadata": {},
   "outputs": [],
   "source": [
    "# Function to get the bounding polygon and save as gdf\n",
    "# Want to move this to load_model function and delete here, but when I  \n",
    "# run load_model.get_boundary_gdf(), the open gdf step doesn't work, might be directory issue?\n",
    "def get_boundary_gdf(data_url, site_name):\n",
    "    \"\"\"Downloads boundary shapefiles and open as a gdf\n",
    "    \n",
    "    Parameters\n",
    "    ------------\n",
    "    data_url: str\n",
    "        Url for the boundary shapefiles (zipfile)\n",
    "    \n",
    "    site_name: str\n",
    "        The site name.\n",
    "        \n",
    "    Returns\n",
    "    ------------\n",
    "    gdf: geodataframe\n",
    "        A geodataframe containing the boundary geometry.\n",
    "    \"\"\"\n",
    "    override_cache = False\n",
    "    data_path = os.path.join('shapefiles.zip')\n",
    "    \n",
    "    # Cache data file\n",
    "    if (not os.path.exists(data_path)) or override_cache:\n",
    "        print('{} does not exist. Downloading...'.format(data_path))\n",
    "        # Download full data file as zipfile\n",
    "        response = requests.get(data_url)\n",
    "\n",
    "        # Write in respose content using context manager\n",
    "        with open(data_path, 'wb') as data_file:\n",
    "            data_file.write(response.content)\n",
    "            \n",
    "    with zipfile.ZipFile(data_path, 'r') as shape_zipfile:\n",
    "        shape_zipfile.extractall(working_dir)\n",
    "        \n",
    "    data_path=os.path.join('shapefiles',\n",
    "                           '{}_bounding_polygon'.format(site_name),\n",
    "                           'Bounding_Polygon.shp')\n",
    "    print(data_path)\n",
    "\n",
    "    # Open the bounding polygon as gdf\n",
    "    try:\n",
    "        gdf = gpd.read_file(data_path)\n",
    "        return gdf\n",
    "    except:\n",
    "        print('There is no bounding polygon for the {} site, ' \n",
    "              'skipping this site'.format(site_name))"
   ]
  },
  {
   "cell_type": "code",
   "execution_count": 7,
   "id": "700d60b5",
   "metadata": {},
   "outputs": [
    {
     "name": "stdout",
     "output_type": "stream",
     "text": [
      "shapefiles/applevalley_bounding_polygon/Bounding_Polygon.shp\n",
      "shapefiles/hallmeadows_bounding_polygon/Bounding_Polygon.shp\n",
      "shapefiles/highway93_bounding_polygon/Bounding_Polygon.shp\n"
     ]
    }
   ],
   "source": [
    "# Call function to create bounding polygon gdf for each site, save to site_lidar_urls\n",
    "# why isn't this working in the .py file? load_model.get_boundary_gdf()\n",
    "shape_url = ('https://github.com/lechipman/watershed-project/'\n",
    "                 'releases/download/v2.0.0/shapefiles.zip')\n",
    "\n",
    "for site in site_lidar_urls:\n",
    "    site['bounding_polygon'] = (get_boundary_gdf(\n",
    "                                data_url=shape_url, \n",
    "                                site_name=site['site_name']))"
   ]
  },
  {
   "cell_type": "markdown",
   "id": "563929a2",
   "metadata": {},
   "source": [
    "## Load the UAV DTMs and REMs"
   ]
  },
  {
   "cell_type": "code",
   "execution_count": null,
   "id": "4a898e50",
   "metadata": {},
   "outputs": [],
   "source": [
    "# Call function to download the UAV DTMs and REMs and add to dictionary\n",
    "# Note at this step, the main dictionary name is changes to site_data_dictionary\n",
    "# Because it now contains UAV and LiDAR data\n",
    "site_data_dictionary = load_model.get_uav_dtms(site_data_dictionary=site_lidar_urls)"
   ]
  },
  {
   "cell_type": "markdown",
   "id": "d9ac0a6d",
   "metadata": {},
   "source": [
    "## Clip the Lidar and UAV DTMs to AOI"
   ]
  },
  {
   "cell_type": "code",
   "execution_count": null,
   "id": "5deaab4b",
   "metadata": {},
   "outputs": [],
   "source": [
    "# Clip the lidar dtm to bounding polygon, convert to meters, and add to dictionary\n",
    "for site in site_data_dictionary:\n",
    "    site['lidar_clipped_dtm'] = (load_model.dtm_clip(site_name = site['site_name'],\n",
    "                                          site_dtm = site['lidar_dtm'],\n",
    "                                          clip_gdf = site['bounding_polygon'],\n",
    "                                          is_lidar=True))*0.3048\n",
    "# Clip the uav dtm to bounding polygon and add to dictionary\n",
    "for site in site_data_dictionary:\n",
    "    site['uav_clipped_dtm'] = (load_model.dtm_clip(site_name = site['site_name'],\n",
    "                                        site_dtm = site['uav_dtm'],\n",
    "                                        clip_gdf = site['bounding_polygon'],\n",
    "                                        is_lidar=False))"
   ]
  },
  {
   "cell_type": "markdown",
   "id": "b97c3513",
   "metadata": {},
   "source": [
    "## Plot the LiDAR and UAV DTMs"
   ]
  },
  {
   "cell_type": "code",
   "execution_count": null,
   "id": "6647c6a6",
   "metadata": {},
   "outputs": [],
   "source": [
    "# Call function to plot UAV and Lidar DTMs\n",
    "fig, axes = plt.subplots(1, 3, figsize=(18, 6))\n",
    "plot_title = ['Apple Valley UAV DTM', \n",
    "              'Hall Meadows UAV DTM',\n",
    "              'Highway93 UAV DTM']\n",
    "for i,axe in enumerate(axes.flatten()):\n",
    "    load_model.plot_model(model=site_data_dictionary[i]['uav_clipped_dtm'], \n",
    "                   title=plot_title[i],\n",
    "                   coarsen=True,\n",
    "                   xpix=20,\n",
    "                   ypix=20,\n",
    "                   ax=axe)\n",
    "    \n",
    "fig, axes = plt.subplots(1, 3, figsize=(18, 6))\n",
    "plot_title = ['Apple Valley LiDAR DTM', \n",
    "              'Hall Meadows LiDAR DTM',\n",
    "              'Highway93 LiDAR DTM']\n",
    "for i,axe in enumerate(axes.flatten()):\n",
    "    load_model.plot_model(model=site_data_dictionary[i]['lidar_clipped_dtm'], \n",
    "                   title=plot_title[i],\n",
    "                   coarsen=False,\n",
    "                   #xpix=20,\n",
    "                   #ypix=20,\n",
    "                   ax=axe)"
   ]
  },
  {
   "cell_type": "markdown",
   "id": "1f879a0a",
   "metadata": {},
   "source": [
    "## To do for steps above\n",
    "\n",
    "update plot_model to add colorbar and update binning"
   ]
  },
  {
   "cell_type": "markdown",
   "id": "039261c1",
   "metadata": {},
   "source": [
    "## Plot the LiDAR and UAV DTM histograms"
   ]
  },
  {
   "cell_type": "code",
   "execution_count": null,
   "id": "0385ba24",
   "metadata": {},
   "outputs": [],
   "source": [
    "# Call function to plot histogram of lidar and UAV DTMs\n",
    "fig, axes = plt.subplots(1, 3, figsize=(18, 6))\n",
    "plot_title = ['Apple Valley',\n",
    "              'Hall Meadows',\n",
    "              'Highway93']\n",
    "\n",
    "for i, axe in enumerate(axes.flatten()):\n",
    "    load_model.plot_hists(model=site_data_dictionary[i]['uav_clipped_dtm'], \n",
    "               titles=plot_title[i],\n",
    "               main_title='UAV DTM Histograms',\n",
    "               color=('cyan'),\n",
    "               ax=axe, \n",
    "               fig=fig)\n",
    "    \n",
    "# Call function to plot histogram of lidar DTMs\n",
    "fig, axes = plt.subplots(1, 3, figsize=(18, 6))\n",
    "plot_title = ['Apple Valley',\n",
    "              'Hall Meadows',\n",
    "              'Highway93']\n",
    "\n",
    "for i, axe in enumerate(axes.flatten()):\n",
    "    load_model.plot_hists(model=site_data_dictionary[i]['lidar_clipped_dtm'], \n",
    "               titles=plot_title[i],\n",
    "               main_title='LiDAR DTM Histograms',\n",
    "               color=('cyan'),\n",
    "               ax=axe,\n",
    "               fig=fig)"
   ]
  },
  {
   "cell_type": "markdown",
   "id": "d2031523",
   "metadata": {},
   "source": [
    "## Create LiDAR REMs Using REMMaker Tool"
   ]
  },
  {
   "cell_type": "code",
   "execution_count": null,
   "id": "f5812bed",
   "metadata": {},
   "outputs": [],
   "source": [
    "# Create LiDAR REMs for all sites with run_rem_maker function, add to dict\n",
    "for site in site_data_dictionary:\n",
    "    load_model.run_rem_maker_lidar(site_name=site['site_name'])\n",
    "    lidar_rem_path = os.path.join(site['site_name'],\n",
    "                                  'remmaker_lidar',\n",
    "                                  '{}_lidar_dtm_REM.tif').format(site['site_name'])\n",
    "    site['lidar_remmaker'] = rxr.open_rasterio(lidar_rem_path, masked=True)"
   ]
  },
  {
   "cell_type": "markdown",
   "id": "c87ae892",
   "metadata": {},
   "source": [
    "## Create UAV REMs Using REMMaker Tool"
   ]
  },
  {
   "cell_type": "code",
   "execution_count": null,
   "id": "f3856596",
   "metadata": {},
   "outputs": [],
   "source": [
    "for site in site_data_dictionary:\n",
    "    load_model.run_rem_maker(site_name=site['site_name'], k=100)\n",
    "    uav_rem_path = os.path.join(site['site_name'],\n",
    "                                  'remmaker',\n",
    "                                  '{}_dtm_REM.tif').format(site['site_name'])\n",
    "    site['uav_remmaker'] = rxr.open_rasterio(uav_rem_path, masked=True)"
   ]
  },
  {
   "cell_type": "markdown",
   "id": "8e52d91f",
   "metadata": {},
   "source": [
    "## Plot the UAV and LiDAR Derived REMs"
   ]
  },
  {
   "cell_type": "code",
   "execution_count": null,
   "id": "3c45c365",
   "metadata": {},
   "outputs": [],
   "source": [
    "# Call function to plot UAV REMs\n",
    "fig, axes = plt.subplots(1, 3, figsize=(18, 6))\n",
    "plot_title = ['Apple Valley-UAV REMMaker', \n",
    "              'Hall Meadows-UAV REMMaker',\n",
    "              'Highway93-UAV REMMaker']\n",
    "for i,axe in enumerate(axes.flatten()):\n",
    "    load_model.plot_model(model=site_data_dictionary[i]['uav_remmaker'], \n",
    "                   title=plot_title[i],\n",
    "                   coarsen=True,\n",
    "                   xpix=100,\n",
    "                   ypix=100,\n",
    "                   ax=axe)\n",
    "# Call function to plot lidar REMs\n",
    "fig, axes = plt.subplots(1, 3, figsize=(18, 6))\n",
    "plot_title = ['Apple Valley-LiDAR REMMaker', \n",
    "              'Hall Meadows-LiDAR REMMaker',\n",
    "              'Highway93-LiDAR REMMaker']\n",
    "for i,axe in enumerate(axes.flatten()):\n",
    "    load_model.plot_model(model=site_data_dictionary[i]['lidar_remmaker'], \n",
    "                   title=plot_title[i],\n",
    "                   coarsen=False,\n",
    "                   #xpix=100,\n",
    "                   #ypix=100,\n",
    "                   ax=axe)"
   ]
  },
  {
   "cell_type": "markdown",
   "id": "37244622",
   "metadata": {},
   "source": [
    "## LiDAR and UAV REMMaker Histograms"
   ]
  },
  {
   "cell_type": "code",
   "execution_count": null,
   "id": "b0812929",
   "metadata": {},
   "outputs": [],
   "source": [
    "# Call function to plot histogram of UAV REMs\n",
    "fig, axes = plt.subplots(1, 3, figsize=(18, 6))\n",
    "plot_title = ['Apple Valley',\n",
    "              'Hall Meadows',\n",
    "              'Highway93']\n",
    "\n",
    "for i, axe in enumerate(axes.flatten()):\n",
    "    load_model.plot_hists(model=site_data_dictionary[i]['uav_remmaker'], \n",
    "               titles=plot_title[i],\n",
    "               main_title='UAV REMMaker Histograms',\n",
    "               color=('cyan'),\n",
    "               fig=fig,\n",
    "               ax=axe)\n",
    "# Call function to plot histogram of lidar REMs\n",
    "fig, axes = plt.subplots(1, 3, figsize=(18, 6))\n",
    "plot_title = ['Apple Valley',\n",
    "              'Hall Meadows',\n",
    "              'Highway93']\n",
    "\n",
    "for i, axe in enumerate(axes.flatten()):\n",
    "    load_model.plot_hists(model=site_data_dictionary[i]['lidar_remmaker'], \n",
    "               titles=plot_title[i],\n",
    "               main_title='LiDAR REMMaker Histograms',\n",
    "               color=('cyan'),\n",
    "               fig=fig,\n",
    "               ax=axe)"
   ]
  },
  {
   "cell_type": "markdown",
   "id": "1c1cf54b",
   "metadata": {},
   "source": [
    "## Flood mapping\n",
    "* set a threshold value that represents flooding level (e.g., anything less than 3ft will be innundated)\n",
    "* for both the uav and lidar rems, calculate the sum of the #points that are <threshold, and multiply by pixel size - this represents the area flooded\n",
    "* can loop through several flood levels and compare uav/lidar with a scatter plot of flooded area"
   ]
  },
  {
   "cell_type": "code",
   "execution_count": null,
   "id": "5e301ba3",
   "metadata": {},
   "outputs": [],
   "source": [
    "# Calculate difference in REMs - need to match resolution\n",
    "#for site in site_data_dictionary:\n",
    "#    site['dod_array'] = site['uav_remmaker'] - site['lidar_remmaker']\n",
    "site_data_dictionary[0]['uav_remmaker'].squeeze()"
   ]
  },
  {
   "cell_type": "code",
   "execution_count": null,
   "id": "394309c4",
   "metadata": {},
   "outputs": [],
   "source": [
    "# .squeeze()?\n",
    "threshhold_das = []\n",
    "masked_da = site_data_dictionary[0]['uav_remmaker'].where(site_data_dictionary[0]['uav_remmaker'] < 1)\n",
    "masked_da.plot()"
   ]
  },
  {
   "cell_type": "code",
   "execution_count": null,
   "id": "a33f677b",
   "metadata": {},
   "outputs": [],
   "source": [
    "masked_da.sum()\n",
    "# plot contours, robust=True, cmap\n",
    "# 1. Find streamflow for return period using the discharge record\n",
    "# 2. Use the field measurements/rating curve to find the corresponding gage height\n",
    "# 3. Find the gage height for when the LiDAR was taken\n",
    "# 4. Subtract the “normal” gage height from the flood gage height\n",
    "# 5. Mask the REM at the gage height difference\n",
    "\n",
    "\n",
    "#or number of pixels at different intervals vs gage height at lidar date\n",
    "# count pixels = sum of raster"
   ]
  },
  {
   "cell_type": "code",
   "execution_count": null,
   "id": "4409e440",
   "metadata": {},
   "outputs": [],
   "source": [
    "masked_da_2 = site_data_dictionary[0]['uav_remmaker'].where(site_data_dictionary[0]['uav_remmaker'] < .5)\n",
    "masked_da_2.sum()"
   ]
  }
 ],
 "metadata": {
  "kernelspec": {
   "display_name": "Python 3 (ipykernel)",
   "language": "python",
   "name": "python3"
  },
  "language_info": {
   "codemirror_mode": {
    "name": "ipython",
    "version": 3
   },
   "file_extension": ".py",
   "mimetype": "text/x-python",
   "name": "python",
   "nbconvert_exporter": "python",
   "pygments_lexer": "ipython3",
   "version": "3.10.10"
  },
  "varInspector": {
   "cols": {
    "lenName": 16,
    "lenType": 16,
    "lenVar": 40
   },
   "kernels_config": {
    "python": {
     "delete_cmd_postfix": "",
     "delete_cmd_prefix": "del ",
     "library": "var_list.py",
     "varRefreshCmd": "print(var_dic_list())"
    },
    "r": {
     "delete_cmd_postfix": ") ",
     "delete_cmd_prefix": "rm(",
     "library": "var_list.r",
     "varRefreshCmd": "cat(var_dic_list()) "
    }
   },
   "types_to_exclude": [
    "module",
    "function",
    "builtin_function_or_method",
    "instance",
    "_Feature"
   ],
   "window_display": false
  }
 },
 "nbformat": 4,
 "nbformat_minor": 5
}
