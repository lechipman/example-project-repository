{
 "cells": [
  {
   "cell_type": "code",
   "execution_count": null,
   "id": "d49da860",
   "metadata": {},
   "outputs": [],
   "source": [
    "# Import packages\n",
    "import os\n",
    "import pathlib\n",
    "import zipfile\n",
    "\n",
    "# import relative path replace / with . subdirectory.load_plot_mode\n",
    "import geopandas as gpd\n",
    "from load_plot_model import load_dtm, plot_model, plot_hists, run_rem_maker, run_rem_maker_lidar, get_uav_dtms\n",
    "import matplotlib.pyplot as plt\n",
    "from riverrem.REMMaker import REMMaker, clear_osm_cache\n",
    "import requests\n",
    "import rioxarray as rxr\n",
    "from rioxarray.merge import merge_arrays"
   ]
  },
  {
   "cell_type": "code",
   "execution_count": null,
   "id": "cb5f9f39",
   "metadata": {},
   "outputs": [],
   "source": [
    "# Set working directory\n",
    "working_dir = os.path.join(\n",
    "    pathlib.Path.home(), 'earth-analytics', 'data', 'watershed-project')\n",
    "\n",
    "# Try/Except Block   \n",
    "try:\n",
    "    os.chdir(working_dir)\n",
    "except:\n",
    "    print('{} does not exist. Creating...'.format(working_dir))\n",
    "    os.makedirs(working_dir)\n",
    "    os.chdir(working_dir)\n",
    "else:\n",
    "    print('{} is now the working directory'.format(working_dir))"
   ]
  },
  {
   "cell_type": "markdown",
   "id": "49b7e0a3",
   "metadata": {},
   "source": [
    "## Download and unzip lidar\n",
    "ideally would download from CO hs site, but there is no direct link. I uploaded zip files to git, and had to change the file content names bc otherwise  running into issues unzipping - the extracted files include root directory in filename, and the name is not callable"
   ]
  },
  {
   "cell_type": "code",
   "execution_count": null,
   "id": "e0d26a30",
   "metadata": {},
   "outputs": [],
   "source": [
    "## Function to create dictionary to store info for lidar download\n",
    "def get_lidar_url(site_names):\n",
    "    \"\"\"\n",
    "    Creates a dictionary to store info for lidar download\n",
    "    \n",
    "    Parameters\n",
    "    -------------\n",
    "    site_names: list\n",
    "        List of the site names.\n",
    "    \n",
    "    Returns\n",
    "    ------------\n",
    "    site_lidar_urls: list\n",
    "        List of dictionaries with sitename, lidar url, and zip filename.\n",
    "    \n",
    "    \"\"\"\n",
    "    site_lidar_urls = []\n",
    "    for site_name in site_names:\n",
    "        site_lidar_urls.append({\n",
    "            'site_name': site_name,\n",
    "            'lidar_url': ('https://github.com/lechipman/'\n",
    "                          'watershed-project/releases/download/v2.0.0/'\n",
    "                          '{}_lidar.zip'.format(site_name)),\n",
    "            'zip_filename': ('{}_lidar.zip'.format(site_name))\n",
    "    })\n",
    "    return site_lidar_urls"
   ]
  },
  {
   "cell_type": "code",
   "execution_count": null,
   "id": "f8bc8276",
   "metadata": {},
   "outputs": [],
   "source": [
    "# Call the function to create dictionaries for the sites.\n",
    "site_names = ['applevalley', 'hallmeadows', 'hallmeadows2', 'highway93']\n",
    "site_lidar_urls = get_lidar_url(site_names=site_names)"
   ]
  },
  {
   "cell_type": "code",
   "execution_count": null,
   "id": "d06fa8ec",
   "metadata": {},
   "outputs": [],
   "source": [
    "# Save the lidar DTMs to the dictionaries\n",
    "for site in site_lidar_urls:\n",
    "    site['lidar_dtm'] = load_dtm(data_url=site['lidar_url'], \n",
    "                                     site_name=site['site_name'],\n",
    "                                     file_name=site['zip_filename'])\n",
    "# Merge the 2 hallmeadows tiles and replace dtm:\n",
    "for site in site_lidar_urls:\n",
    "    if site['site_name'] == 'hallmeadows':\n",
    "        site['lidar_dtm'] = (merge_arrays(dataarrays = [site_lidar_urls[1]['lidar_dtm'], \n",
    "                                                        site_lidar_urls[2]['lidar_dtm']]))\n",
    "    if site['site_name'] == 'hallmeadows2':\n",
    "        site_lidar_urls.remove(site)"
   ]
  },
  {
   "cell_type": "markdown",
   "id": "fe64e70c",
   "metadata": {},
   "source": [
    "## Plot the LiDAR DTMs"
   ]
  },
  {
   "cell_type": "code",
   "execution_count": null,
   "id": "81bb650a",
   "metadata": {},
   "outputs": [],
   "source": [
    "# Call function to plot Lidar DTMs\n",
    "fig, axes = plt.subplots(1, 3, figsize=(18, 6))\n",
    "plot_title = ['Highway93-LiDAR DTM', \n",
    "              'Hall Meadows-LiDAR DTM',\n",
    "              'Apple Valley-LiDAR DTM']\n",
    "\n",
    "for i, axe in enumerate(axes.flatten()):\n",
    "    plot_model(model=site_lidar_urls[i]['lidar_dtm'], \n",
    "               title=plot_title[i],\n",
    "               coarsen=(True),\n",
    "               xpix=10, \n",
    "               ypix=10,\n",
    "               ax=axe)"
   ]
  },
  {
   "cell_type": "markdown",
   "id": "83980fa6",
   "metadata": {},
   "source": [
    "## Clip the lidar DTMs"
   ]
  },
  {
   "cell_type": "code",
   "execution_count": null,
   "id": "e57310bb",
   "metadata": {},
   "outputs": [],
   "source": [
    "##Function to get the bounding polygon and save as gdf\n",
    "def get_boundary_gdf(data_url, site_name):\n",
    "    \"\"\"Downloads boundary shapefiles and open as a gdf\n",
    "    \n",
    "    Parameters\n",
    "    ------------\n",
    "    data_url: str\n",
    "        Url for the boundary shapefiles (zipfile)\n",
    "    \n",
    "    site_name: str\n",
    "        The site name.\n",
    "        \n",
    "    Returns\n",
    "    ------------\n",
    "    gdf: geodataframe\n",
    "        A geodataframe containing the boundary geometry.\n",
    "    \"\"\"\n",
    "    override_cache = False\n",
    "    data_dir='shapefiles'\n",
    "    data_path = os.path.join('shapefiles.zip')\n",
    "    \n",
    "    # Cache data file\n",
    "    if (not os.path.exists(data_path)) or override_cache:\n",
    "        print('{} does not exist. Downloading...'.format(data_path))\n",
    "        # Download full data file as zipfile\n",
    "        response = requests.get(data_url)\n",
    "\n",
    "        # Write in respose content using context manager\n",
    "        with open(data_path, 'wb') as data_file:\n",
    "            data_file.write(response.content)\n",
    "            \n",
    "    with zipfile.ZipFile(data_path, 'r') as shape_zipfile:\n",
    "        shape_zipfile.extractall(working_dir)\n",
    "    data_path=os.path.join(data_dir,\n",
    "                           '{}_bounding_polygon'.format(site_name),\n",
    "                           'Bounding_Polygon.shp')\n",
    "\n",
    "    # Open the bounding polygon as gdf\n",
    "    try:\n",
    "        gdf = gpd.read_file(data_path)\n",
    "        return gdf\n",
    "    except:\n",
    "        print('There is no bounding polygon for the {} site, ' \n",
    "              'skipping this site'.format(site_name))"
   ]
  },
  {
   "cell_type": "code",
   "execution_count": null,
   "id": "700d60b5",
   "metadata": {},
   "outputs": [],
   "source": [
    "# Call function to create bounding polygon gdf for each site, save to site_lidar_urls\n",
    "shape_url = ('https://github.com/lechipman/watershed-project/'\n",
    "                 'releases/download/v2.0.0/shapefiles.zip')\n",
    "\n",
    "for site in site_lidar_urls:\n",
    "    site['bounding_polygon'] = (get_boundary_gdf(\n",
    "                                data_url=shape_url, \n",
    "                                site_name=site['site_name']))"
   ]
  },
  {
   "cell_type": "code",
   "execution_count": null,
   "id": "d163c702",
   "metadata": {},
   "outputs": [],
   "source": [
    "## Function for opening and clipping the geotiff file\n",
    "def lidar_clip(site_name, lidar_dtm, clip_gdf):\n",
    "    \"\"\"\n",
    "  Clips and reprojects the lidar raster to the area of interest (AOI)\n",
    "  using a supplied shapefile.\n",
    "\n",
    "  Parameters\n",
    "  ----------\n",
    "  lidar_dtm: DataArray\n",
    "      The dtm to clip.\n",
    "  clip_gdf: Geodataframe\n",
    "      GDF of the AOI.\n",
    "\n",
    "  Returns\n",
    "  -------\n",
    "  clipped_dtm = DataArray\n",
    "      The preprocessed raster dataset.\n",
    "  \"\"\"\n",
    "    raster_path=os.path.join('{}'.format(site_name), '{}_lidar_dtm.tif'.format(site_name))\n",
    "    reproject_dtm = lidar_dtm.rio.reproject(\"EPSG:4326\")\n",
    "    clipped_dtm = (reproject_dtm\n",
    "                  .squeeze()\n",
    "                  .rio.clip(clip_gdf.geometry, crs=clip_gdf.crs))\n",
    "    # Save the clipped lidar dtm as raster for use in RiverREM\n",
    "    clipped_dtm.rio.to_raster(raster_path)\n",
    "    \n",
    "    return clipped_dtm"
   ]
  },
  {
   "cell_type": "code",
   "execution_count": null,
   "id": "ca582b4a",
   "metadata": {},
   "outputs": [],
   "source": [
    "# Clip the lidar dtm to bounding polygon and add to dictionary\n",
    "for site in site_lidar_urls:\n",
    "    site['lidar_clipped_dtm'] = lidar_clip(site_name = site['site_name'],\n",
    "                                           lidar_dtm = site['lidar_dtm'],\n",
    "                                           clip_gdf = site['bounding_polygon'])"
   ]
  },
  {
   "cell_type": "code",
   "execution_count": null,
   "id": "44a29c3c",
   "metadata": {},
   "outputs": [],
   "source": [
    "# Call function to plot lidar DTMs\n",
    "fig, axes = plt.subplots(1, 3, figsize=(18, 6))\n",
    "plot_title = ['Apple Valley-LiDAR', \n",
    "              'Hall Meadows-LiDAR',\n",
    "              'Highway93-LiDAR']\n",
    "for i, axe in enumerate(axes.flatten()):\n",
    "    plot_model(model=site_lidar_urls[i]['lidar_clipped_dtm'], \n",
    "               title=plot_title[i],\n",
    "               coarsen=(False),\n",
    "               ax=axe)"
   ]
  },
  {
   "cell_type": "markdown",
   "id": "1f879a0a",
   "metadata": {},
   "source": [
    "## To do for steps above\n",
    "\n",
    "Speeding up plots/reducing file size? - pickling??"
   ]
  },
  {
   "cell_type": "markdown",
   "id": "563929a2",
   "metadata": {},
   "source": [
    "# Load the UAV DTMs and REMs"
   ]
  },
  {
   "cell_type": "code",
   "execution_count": null,
   "id": "4a898e50",
   "metadata": {},
   "outputs": [],
   "source": [
    "site_data_dictionary = get_uav_dtms(site_data_dictionary=site_lidar_urls)"
   ]
  },
  {
   "cell_type": "code",
   "execution_count": null,
   "id": "6647c6a6",
   "metadata": {},
   "outputs": [],
   "source": [
    "# Call function to plot lidar DTMs\n",
    "fig, axes = plt.subplots(1, 3, figsize=(18, 6))\n",
    "plot_title = ['Apple Valley-UAV REM', \n",
    "              'Hall Meadows-REM',\n",
    "              'Highway93-REM']\n",
    "for i,axe in enumerate(axes.flatten()):\n",
    "    plot_model(model=site_data_dictionary[i]['uav_rem'], \n",
    "                   title=plot_title[i],\n",
    "                   coarsen=True,\n",
    "                   xpix=20,\n",
    "                   ypix=20,\n",
    "                   ax=axe)"
   ]
  },
  {
   "cell_type": "markdown",
   "id": "039261c1",
   "metadata": {},
   "source": [
    "## LiDAR and UAV DTM histograms"
   ]
  },
  {
   "cell_type": "code",
   "execution_count": null,
   "id": "0385ba24",
   "metadata": {},
   "outputs": [],
   "source": [
    "# Call function to plot histogram of lidar and UAV DTMs\n",
    "fig, axes = plt.subplots(1, 3, figsize=(18, 6))\n",
    "plot_title = ['Apple Valley',\n",
    "              'Hall Meadows',\n",
    "              'Highway93']\n",
    "\n",
    "for i, axe in enumerate(axes.flatten()):\n",
    "    plot_hists(model=site_data_dictionary[i]['uav_dtm'], \n",
    "               titles=plot_title[i],\n",
    "               main_title='UAV DTM Histograms',\n",
    "               color=('cyan'),\n",
    "               fig=fig,\n",
    "               ax=axe)"
   ]
  },
  {
   "cell_type": "code",
   "execution_count": null,
   "id": "df22a0fa",
   "metadata": {},
   "outputs": [],
   "source": [
    "# Call function to plot histogram of lidar DTMs\n",
    "fig, axes = plt.subplots(1, 3, figsize=(18, 6))\n",
    "plot_title = ['Apple Valley',\n",
    "              'Hall Meadows',\n",
    "              'Highway93']\n",
    "\n",
    "for i, axe in enumerate(axes.flatten()):\n",
    "    plot_hists(model=site_data_dictionary[i]['lidar_clipped_dtm'], \n",
    "               titles=plot_title[i],\n",
    "               main_title='LiDAR DTM Histograms',\n",
    "               color=('cyan'),\n",
    "               fig=fig,\n",
    "               ax=axe)"
   ]
  },
  {
   "cell_type": "markdown",
   "id": "d2031523",
   "metadata": {},
   "source": [
    "## Create LiDAR REMs Using REMMaker Tool"
   ]
  },
  {
   "cell_type": "code",
   "execution_count": null,
   "id": "f5812bed",
   "metadata": {},
   "outputs": [],
   "source": [
    "# Create LiDAR REMs for all sites with run_rem_maker function, add to dict\n",
    "for site in site_data_dictionary:\n",
    "    run_rem_maker_lidar(site_name=site['site_name'])\n",
    "    lidar_rem_path = os.path.join(site['site_name'],\n",
    "                                  'remmaker_lidar',\n",
    "                                  '{}_lidar_dtm_REM.tif').format(site['site_name'])\n",
    "    site['lidar_remmaker'] = rxr.open_rasterio(lidar_rem_path, masked=True)"
   ]
  },
  {
   "cell_type": "markdown",
   "id": "c87ae892",
   "metadata": {},
   "source": [
    "## Create UAV REMs Using REMMaker Tool"
   ]
  },
  {
   "cell_type": "code",
   "execution_count": null,
   "id": "f3856596",
   "metadata": {},
   "outputs": [],
   "source": [
    "for site in site_data_dictionary:\n",
    "    run_rem_maker(site_name=site['site_name'], k=100)\n",
    "    uav_rem_path = os.path.join(site['site_name'],\n",
    "                                  'remmaker',\n",
    "                                  '{}_dtm_REM.tif').format(site['site_name'])\n",
    "    site['uav_remmaker'] = rxr.open_rasterio(uav_rem_path, masked=True)"
   ]
  },
  {
   "cell_type": "markdown",
   "id": "8e52d91f",
   "metadata": {},
   "source": [
    "# Plot the UAV and LiDAR Derived REMs"
   ]
  },
  {
   "cell_type": "code",
   "execution_count": null,
   "id": "3c45c365",
   "metadata": {},
   "outputs": [],
   "source": [
    "# Call function to plot UAV REMs\n",
    "fig, axes = plt.subplots(1, 3, figsize=(18, 6))\n",
    "plot_title = ['Apple Valley-UAV REMMaker', \n",
    "              'Hall Meadows-UAV REMMaker',\n",
    "              'Highway93-UAV REMMaker']\n",
    "for i,axe in enumerate(axes.flatten()):\n",
    "    plot_model(model=site_data_dictionary[i]['uav_remmaker'], \n",
    "                   title=plot_title[i],\n",
    "                   coarsen=True,\n",
    "                   xpix=100,\n",
    "                   ypix=100,\n",
    "                   ax=axe)"
   ]
  },
  {
   "cell_type": "code",
   "execution_count": null,
   "id": "318a1779",
   "metadata": {},
   "outputs": [],
   "source": [
    "# Call function to plot lidar REMs\n",
    "fig, axes = plt.subplots(1, 3, figsize=(18, 6))\n",
    "plot_title = ['Apple Valley-LiDAR REMMaker', \n",
    "              'Hall Meadows-LiDAR REMMaker',\n",
    "              'Highway93-LiDAR REMMaker']\n",
    "for i,axe in enumerate(axes.flatten()):\n",
    "    plot_model(model=site_data_dictionary[i]['lidar_remmaker'], \n",
    "                   title=plot_title[i],\n",
    "                   coarsen=False,\n",
    "                   #xpix=100,\n",
    "                   #ypix=100,\n",
    "                   ax=axe)"
   ]
  },
  {
   "cell_type": "markdown",
   "id": "37244622",
   "metadata": {},
   "source": [
    "## LiDAR and UAV REMMaker Histograms"
   ]
  },
  {
   "cell_type": "code",
   "execution_count": null,
   "id": "b0812929",
   "metadata": {},
   "outputs": [],
   "source": [
    "# Call function to plot histogram of UAV REMs\n",
    "fig, axes = plt.subplots(1, 3, figsize=(18, 6))\n",
    "plot_title = ['Apple Valley',\n",
    "              'Hall Meadows',\n",
    "              'Highway93']\n",
    "\n",
    "for i, axe in enumerate(axes.flatten()):\n",
    "    plot_hists(model=site_data_dictionary[i]['uav_remmaker'], \n",
    "               titles=plot_title[i],\n",
    "               main_title='UAV REMMaker Histograms',\n",
    "               color=('cyan'),\n",
    "               fig=fig,\n",
    "               ax=axe)"
   ]
  },
  {
   "cell_type": "code",
   "execution_count": null,
   "id": "288959d8",
   "metadata": {},
   "outputs": [],
   "source": [
    "# Call function to plot histogram of lidar REMs\n",
    "fig, axes = plt.subplots(1, 3, figsize=(18, 6))\n",
    "plot_title = ['Apple Valley',\n",
    "              'Hall Meadows',\n",
    "              'Highway93']\n",
    "\n",
    "for i, axe in enumerate(axes.flatten()):\n",
    "    plot_hists(model=site_data_dictionary[i]['lidar_remmaker'], \n",
    "               titles=plot_title[i],\n",
    "               main_title='LiDAR REMMaker Histograms',\n",
    "               color=('cyan'),\n",
    "               fig=fig,\n",
    "               ax=axe)"
   ]
  },
  {
   "cell_type": "markdown",
   "id": "1c1cf54b",
   "metadata": {},
   "source": [
    "## Flood mapping\n",
    "* set a threshold value that represents flooding level (e.g., anything less than 3ft will be innundated)\n",
    "* for both the uav and lidar rems, calculate the sum of the #points that are <threshold, and multiply by pixel size - this represents the area flooded\n",
    "* can loop through several flood levels and compare uav/lidar with a scatter plot of flooded area"
   ]
  },
  {
   "cell_type": "code",
   "execution_count": null,
   "id": "5e301ba3",
   "metadata": {},
   "outputs": [],
   "source": [
    "# Calculate difference in REMs - need to match resolution\n",
    "#for site in site_data_dictionary:\n",
    "#    site['dod_array'] = site['uav_remmaker'] - site['lidar_remmaker']\n",
    "site_data_dictionary[0]['uav_remmaker'].squeeze()"
   ]
  },
  {
   "cell_type": "code",
   "execution_count": null,
   "id": "394309c4",
   "metadata": {},
   "outputs": [],
   "source": [
    "# .squeeze()?\n",
    "threshhold_das = []\n",
    "masked_da = site_data_dictionary[0]['uav_remmaker'].where(site_data_dictionary[0]['uav_remmaker'] < 1)\n",
    "masked_da.plot()"
   ]
  },
  {
   "cell_type": "code",
   "execution_count": null,
   "id": "a33f677b",
   "metadata": {},
   "outputs": [],
   "source": [
    "masked_da.sum()\n",
    "# plot contours, robust=True, cmap\n",
    "# 1. Find streamflow for return period using the discharge record\n",
    "# 2. Use the field measurements/rating curve to find the corresponding gage height\n",
    "# 3. Find the gage height for when the LiDAR was taken\n",
    "# 4. Subtract the “normal” gage height from the flood gage height\n",
    "# 5. Mask the REM at the gage height difference\n",
    "\n",
    "\n",
    "#or number of pixels at different intervals vs gage height at lidar date\n",
    "# count pixels = sum of raster"
   ]
  },
  {
   "cell_type": "code",
   "execution_count": null,
   "id": "4409e440",
   "metadata": {},
   "outputs": [],
   "source": [
    "masked_da_2 = site_data_dictionary[0]['uav_remmaker'].where(site_data_dictionary[0]['uav_remmaker'] < .5)\n",
    "masked_da_2.sum()"
   ]
  }
 ],
 "metadata": {
  "kernelspec": {
   "display_name": "Python 3 (ipykernel)",
   "language": "python",
   "name": "python3"
  },
  "language_info": {
   "codemirror_mode": {
    "name": "ipython",
    "version": 3
   },
   "file_extension": ".py",
   "mimetype": "text/x-python",
   "name": "python",
   "nbconvert_exporter": "python",
   "pygments_lexer": "ipython3",
   "version": "3.10.10"
  },
  "varInspector": {
   "cols": {
    "lenName": 16,
    "lenType": 16,
    "lenVar": 40
   },
   "kernels_config": {
    "python": {
     "delete_cmd_postfix": "",
     "delete_cmd_prefix": "del ",
     "library": "var_list.py",
     "varRefreshCmd": "print(var_dic_list())"
    },
    "r": {
     "delete_cmd_postfix": ") ",
     "delete_cmd_prefix": "rm(",
     "library": "var_list.r",
     "varRefreshCmd": "cat(var_dic_list()) "
    }
   },
   "types_to_exclude": [
    "module",
    "function",
    "builtin_function_or_method",
    "instance",
    "_Feature"
   ],
   "window_display": false
  }
 },
 "nbformat": 4,
 "nbformat_minor": 5
}
